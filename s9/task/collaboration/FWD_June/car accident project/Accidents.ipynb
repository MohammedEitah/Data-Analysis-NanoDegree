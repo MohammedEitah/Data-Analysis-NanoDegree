{
 "cells": [
  {
   "cell_type": "code",
   "execution_count": 2,
   "metadata": {},
   "outputs": [],
   "source": [
    "import pandas as pd\n",
    "import numpy as np\n",
    "import matplotlib.pyplot as plt\n",
    "import seaborn as sns\n",
    "\n",
    "%matplotlib inline"
   ]
  },
  {
   "cell_type": "code",
   "execution_count": 4,
   "metadata": {},
   "outputs": [
    {
     "data": {
      "text/html": [
       "<div>\n",
       "<style scoped>\n",
       "    .dataframe tbody tr th:only-of-type {\n",
       "        vertical-align: middle;\n",
       "    }\n",
       "\n",
       "    .dataframe tbody tr th {\n",
       "        vertical-align: top;\n",
       "    }\n",
       "\n",
       "    .dataframe thead th {\n",
       "        text-align: right;\n",
       "    }\n",
       "</style>\n",
       "<table border=\"1\" class=\"dataframe\">\n",
       "  <thead>\n",
       "    <tr style=\"text-align: right;\">\n",
       "      <th></th>\n",
       "      <th>Severity</th>\n",
       "      <th>Start_Time</th>\n",
       "      <th>End_Time</th>\n",
       "      <th>Start_Lat</th>\n",
       "      <th>Start_Lng</th>\n",
       "      <th>End_Lat</th>\n",
       "      <th>End_Lng</th>\n",
       "      <th>Distance(mi)</th>\n",
       "      <th>Description</th>\n",
       "      <th>Number</th>\n",
       "      <th>...</th>\n",
       "      <th>Roundabout</th>\n",
       "      <th>Station</th>\n",
       "      <th>Stop</th>\n",
       "      <th>Traffic_Calming</th>\n",
       "      <th>Traffic_Signal</th>\n",
       "      <th>Turning_Loop</th>\n",
       "      <th>Sunrise_Sunset</th>\n",
       "      <th>Civil_Twilight</th>\n",
       "      <th>Nautical_Twilight</th>\n",
       "      <th>Astronomical_Twilight</th>\n",
       "    </tr>\n",
       "    <tr>\n",
       "      <th>id</th>\n",
       "      <th></th>\n",
       "      <th></th>\n",
       "      <th></th>\n",
       "      <th></th>\n",
       "      <th></th>\n",
       "      <th></th>\n",
       "      <th></th>\n",
       "      <th></th>\n",
       "      <th></th>\n",
       "      <th></th>\n",
       "      <th></th>\n",
       "      <th></th>\n",
       "      <th></th>\n",
       "      <th></th>\n",
       "      <th></th>\n",
       "      <th></th>\n",
       "      <th></th>\n",
       "      <th></th>\n",
       "      <th></th>\n",
       "      <th></th>\n",
       "      <th></th>\n",
       "    </tr>\n",
       "  </thead>\n",
       "  <tbody>\n",
       "    <tr>\n",
       "      <th>A-2283743</th>\n",
       "      <td>2</td>\n",
       "      <td>2019-02-19T08:02:58Z</td>\n",
       "      <td>2019-02-19T08:32:22Z</td>\n",
       "      <td>33.729698</td>\n",
       "      <td>-84.392586</td>\n",
       "      <td>33.729698</td>\n",
       "      <td>-84.392586</td>\n",
       "      <td>0.00</td>\n",
       "      <td>Right hand shoulder blocked due to accident on...</td>\n",
       "      <td>NaN</td>\n",
       "      <td>...</td>\n",
       "      <td>False</td>\n",
       "      <td>False</td>\n",
       "      <td>False</td>\n",
       "      <td>False</td>\n",
       "      <td>False</td>\n",
       "      <td>False</td>\n",
       "      <td>Day</td>\n",
       "      <td>Day</td>\n",
       "      <td>Day</td>\n",
       "      <td>Day</td>\n",
       "    </tr>\n",
       "    <tr>\n",
       "      <th>A-1567861</th>\n",
       "      <td>2</td>\n",
       "      <td>2017-02-13T20:51:52Z</td>\n",
       "      <td>2017-02-13T21:21:39Z</td>\n",
       "      <td>43.194069</td>\n",
       "      <td>-83.727097</td>\n",
       "      <td>NaN</td>\n",
       "      <td>NaN</td>\n",
       "      <td>0.01</td>\n",
       "      <td>Accident on M-54 Saginaw Rd near Tuscola Rd.</td>\n",
       "      <td>13099.0</td>\n",
       "      <td>...</td>\n",
       "      <td>False</td>\n",
       "      <td>False</td>\n",
       "      <td>False</td>\n",
       "      <td>False</td>\n",
       "      <td>False</td>\n",
       "      <td>False</td>\n",
       "      <td>Night</td>\n",
       "      <td>Night</td>\n",
       "      <td>Night</td>\n",
       "      <td>Night</td>\n",
       "    </tr>\n",
       "    <tr>\n",
       "      <th>A-423709</th>\n",
       "      <td>2</td>\n",
       "      <td>2020-05-22T18:20:00Z</td>\n",
       "      <td>2020-05-22T19:11:35Z</td>\n",
       "      <td>34.000071</td>\n",
       "      <td>-118.409001</td>\n",
       "      <td>34.000071</td>\n",
       "      <td>-118.409001</td>\n",
       "      <td>0.00</td>\n",
       "      <td>At Braddock Dr/Exit 51 - Accident.</td>\n",
       "      <td>NaN</td>\n",
       "      <td>...</td>\n",
       "      <td>False</td>\n",
       "      <td>False</td>\n",
       "      <td>False</td>\n",
       "      <td>False</td>\n",
       "      <td>True</td>\n",
       "      <td>False</td>\n",
       "      <td>Day</td>\n",
       "      <td>Day</td>\n",
       "      <td>Day</td>\n",
       "      <td>Day</td>\n",
       "    </tr>\n",
       "    <tr>\n",
       "      <th>A-864136</th>\n",
       "      <td>2</td>\n",
       "      <td>2020-03-03T07:47:18Z</td>\n",
       "      <td>2020-03-03T09:17:12Z</td>\n",
       "      <td>32.675549</td>\n",
       "      <td>-96.757278</td>\n",
       "      <td>32.675549</td>\n",
       "      <td>-96.757278</td>\n",
       "      <td>0.00</td>\n",
       "      <td>Accident on Simpson Stuart Rd at Flagstaff Dr.</td>\n",
       "      <td>NaN</td>\n",
       "      <td>...</td>\n",
       "      <td>False</td>\n",
       "      <td>False</td>\n",
       "      <td>False</td>\n",
       "      <td>False</td>\n",
       "      <td>False</td>\n",
       "      <td>False</td>\n",
       "      <td>Day</td>\n",
       "      <td>Day</td>\n",
       "      <td>Day</td>\n",
       "      <td>Day</td>\n",
       "    </tr>\n",
       "    <tr>\n",
       "      <th>A-2792470</th>\n",
       "      <td>2</td>\n",
       "      <td>2020-01-22T08:05:34Z</td>\n",
       "      <td>2020-01-22T12:05:34Z</td>\n",
       "      <td>42.879050</td>\n",
       "      <td>-121.831060</td>\n",
       "      <td>42.879050</td>\n",
       "      <td>-121.831060</td>\n",
       "      <td>0.00</td>\n",
       "      <td>At Silver Lake Rd/W Boundary Rd - Accident.</td>\n",
       "      <td>45274.0</td>\n",
       "      <td>...</td>\n",
       "      <td>False</td>\n",
       "      <td>False</td>\n",
       "      <td>False</td>\n",
       "      <td>False</td>\n",
       "      <td>False</td>\n",
       "      <td>False</td>\n",
       "      <td>Day</td>\n",
       "      <td>Day</td>\n",
       "      <td>Day</td>\n",
       "      <td>Day</td>\n",
       "    </tr>\n",
       "  </tbody>\n",
       "</table>\n",
       "<p>5 rows × 46 columns</p>\n",
       "</div>"
      ],
      "text/plain": [
       "           Severity            Start_Time              End_Time  Start_Lat  \\\n",
       "id                                                                           \n",
       "A-2283743         2  2019-02-19T08:02:58Z  2019-02-19T08:32:22Z  33.729698   \n",
       "A-1567861         2  2017-02-13T20:51:52Z  2017-02-13T21:21:39Z  43.194069   \n",
       "A-423709          2  2020-05-22T18:20:00Z  2020-05-22T19:11:35Z  34.000071   \n",
       "A-864136          2  2020-03-03T07:47:18Z  2020-03-03T09:17:12Z  32.675549   \n",
       "A-2792470         2  2020-01-22T08:05:34Z  2020-01-22T12:05:34Z  42.879050   \n",
       "\n",
       "            Start_Lng    End_Lat     End_Lng  Distance(mi)  \\\n",
       "id                                                           \n",
       "A-2283743  -84.392586  33.729698  -84.392586          0.00   \n",
       "A-1567861  -83.727097        NaN         NaN          0.01   \n",
       "A-423709  -118.409001  34.000071 -118.409001          0.00   \n",
       "A-864136   -96.757278  32.675549  -96.757278          0.00   \n",
       "A-2792470 -121.831060  42.879050 -121.831060          0.00   \n",
       "\n",
       "                                                 Description   Number  ...  \\\n",
       "id                                                                     ...   \n",
       "A-2283743  Right hand shoulder blocked due to accident on...      NaN  ...   \n",
       "A-1567861       Accident on M-54 Saginaw Rd near Tuscola Rd.  13099.0  ...   \n",
       "A-423709                  At Braddock Dr/Exit 51 - Accident.      NaN  ...   \n",
       "A-864136      Accident on Simpson Stuart Rd at Flagstaff Dr.      NaN  ...   \n",
       "A-2792470        At Silver Lake Rd/W Boundary Rd - Accident.  45274.0  ...   \n",
       "\n",
       "          Roundabout Station   Stop Traffic_Calming Traffic_Signal  \\\n",
       "id                                                                   \n",
       "A-2283743      False   False  False           False          False   \n",
       "A-1567861      False   False  False           False          False   \n",
       "A-423709       False   False  False           False           True   \n",
       "A-864136       False   False  False           False          False   \n",
       "A-2792470      False   False  False           False          False   \n",
       "\n",
       "          Turning_Loop Sunrise_Sunset Civil_Twilight Nautical_Twilight  \\\n",
       "id                                                                       \n",
       "A-2283743        False            Day            Day               Day   \n",
       "A-1567861        False          Night          Night             Night   \n",
       "A-423709         False            Day            Day               Day   \n",
       "A-864136         False            Day            Day               Day   \n",
       "A-2792470        False            Day            Day               Day   \n",
       "\n",
       "          Astronomical_Twilight  \n",
       "id                               \n",
       "A-2283743                   Day  \n",
       "A-1567861                 Night  \n",
       "A-423709                    Day  \n",
       "A-864136                    Day  \n",
       "A-2792470                   Day  \n",
       "\n",
       "[5 rows x 46 columns]"
      ]
     },
     "execution_count": 4,
     "metadata": {},
     "output_type": "execute_result"
    }
   ],
   "source": [
    "df = pd.read_csv('df.csv' , index_col = 'id')\n",
    "df.head()"
   ]
  },
  {
   "cell_type": "code",
   "execution_count": 5,
   "metadata": {},
   "outputs": [
    {
     "name": "stdout",
     "output_type": "stream",
     "text": [
      "<class 'pandas.core.frame.DataFrame'>\n",
      "Index: 5000 entries, A-2283743 to A-1872539\n",
      "Data columns (total 46 columns):\n",
      " #   Column                 Non-Null Count  Dtype  \n",
      "---  ------                 --------------  -----  \n",
      " 0   Severity               5000 non-null   int64  \n",
      " 1   Start_Time             5000 non-null   object \n",
      " 2   End_Time               5000 non-null   object \n",
      " 3   Start_Lat              5000 non-null   float64\n",
      " 4   Start_Lng              5000 non-null   float64\n",
      " 5   End_Lat                4506 non-null   float64\n",
      " 6   End_Lng                4506 non-null   float64\n",
      " 7   Distance(mi)           5000 non-null   float64\n",
      " 8   Description            5000 non-null   object \n",
      " 9   Number                 1697 non-null   float64\n",
      " 10  Street                 5000 non-null   object \n",
      " 11  Side                   5000 non-null   object \n",
      " 12  City                   4999 non-null   object \n",
      " 13  County                 5000 non-null   object \n",
      " 14  State                  5000 non-null   object \n",
      " 15  Zipcode                4999 non-null   object \n",
      " 16  Country                5000 non-null   object \n",
      " 17  Timezone               4997 non-null   object \n",
      " 18  Airport_Code           4990 non-null   object \n",
      " 19  Weather_Timestamp      4919 non-null   object \n",
      " 20  Temperature(F)         4882 non-null   float64\n",
      " 21  Wind_Chill(F)          2947 non-null   float64\n",
      " 22  Humidity(%)            4869 non-null   float64\n",
      " 23  Pressure(in)           4903 non-null   float64\n",
      " 24  Visibility(mi)         4876 non-null   float64\n",
      " 25  Wind_Direction         4888 non-null   object \n",
      " 26  Wind_Speed(mph)        4455 non-null   float64\n",
      " 27  Precipitation(in)      2757 non-null   float64\n",
      " 28  Weather_Condition      4871 non-null   object \n",
      " 29  Amenity                5000 non-null   bool   \n",
      " 30  Bump                   5000 non-null   bool   \n",
      " 31  Crossing               5000 non-null   bool   \n",
      " 32  Give_Way               5000 non-null   bool   \n",
      " 33  Junction               5000 non-null   bool   \n",
      " 34  No_Exit                5000 non-null   bool   \n",
      " 35  Railway                5000 non-null   bool   \n",
      " 36  Roundabout             5000 non-null   bool   \n",
      " 37  Station                5000 non-null   bool   \n",
      " 38  Stop                   5000 non-null   bool   \n",
      " 39  Traffic_Calming        5000 non-null   bool   \n",
      " 40  Traffic_Signal         5000 non-null   bool   \n",
      " 41  Turning_Loop           5000 non-null   bool   \n",
      " 42  Sunrise_Sunset         4999 non-null   object \n",
      " 43  Civil_Twilight         4999 non-null   object \n",
      " 44  Nautical_Twilight      4999 non-null   object \n",
      " 45  Astronomical_Twilight  4999 non-null   object \n",
      "dtypes: bool(13), float64(13), int64(1), object(19)\n",
      "memory usage: 1.4+ MB\n"
     ]
    }
   ],
   "source": [
    "df.info()"
   ]
  },
  {
   "cell_type": "code",
   "execution_count": 12,
   "metadata": {
    "scrolled": true
   },
   "outputs": [
    {
     "data": {
      "text/html": [
       "<div>\n",
       "<style scoped>\n",
       "    .dataframe tbody tr th:only-of-type {\n",
       "        vertical-align: middle;\n",
       "    }\n",
       "\n",
       "    .dataframe tbody tr th {\n",
       "        vertical-align: top;\n",
       "    }\n",
       "\n",
       "    .dataframe thead th {\n",
       "        text-align: right;\n",
       "    }\n",
       "</style>\n",
       "<table border=\"1\" class=\"dataframe\">\n",
       "  <thead>\n",
       "    <tr style=\"text-align: right;\">\n",
       "      <th></th>\n",
       "      <th>Severity</th>\n",
       "      <th>Description</th>\n",
       "      <th>Weather_Condition</th>\n",
       "      <th>No_Exit</th>\n",
       "      <th>Visibility(mi)</th>\n",
       "      <th>Sunrise_Sunset</th>\n",
       "    </tr>\n",
       "    <tr>\n",
       "      <th>id</th>\n",
       "      <th></th>\n",
       "      <th></th>\n",
       "      <th></th>\n",
       "      <th></th>\n",
       "      <th></th>\n",
       "      <th></th>\n",
       "    </tr>\n",
       "  </thead>\n",
       "  <tbody>\n",
       "    <tr>\n",
       "      <th>A-2283743</th>\n",
       "      <td>2</td>\n",
       "      <td>Right hand shoulder blocked due to accident on...</td>\n",
       "      <td>Overcast</td>\n",
       "      <td>False</td>\n",
       "      <td>10.0</td>\n",
       "      <td>Day</td>\n",
       "    </tr>\n",
       "    <tr>\n",
       "      <th>A-1567861</th>\n",
       "      <td>2</td>\n",
       "      <td>Accident on M-54 Saginaw Rd near Tuscola Rd.</td>\n",
       "      <td>Clear</td>\n",
       "      <td>False</td>\n",
       "      <td>10.0</td>\n",
       "      <td>Night</td>\n",
       "    </tr>\n",
       "    <tr>\n",
       "      <th>A-423709</th>\n",
       "      <td>2</td>\n",
       "      <td>At Braddock Dr/Exit 51 - Accident.</td>\n",
       "      <td>Fair</td>\n",
       "      <td>False</td>\n",
       "      <td>10.0</td>\n",
       "      <td>Day</td>\n",
       "    </tr>\n",
       "    <tr>\n",
       "      <th>A-864136</th>\n",
       "      <td>2</td>\n",
       "      <td>Accident on Simpson Stuart Rd at Flagstaff Dr.</td>\n",
       "      <td>Light Rain</td>\n",
       "      <td>False</td>\n",
       "      <td>10.0</td>\n",
       "      <td>Day</td>\n",
       "    </tr>\n",
       "    <tr>\n",
       "      <th>A-2792470</th>\n",
       "      <td>2</td>\n",
       "      <td>At Silver Lake Rd/W Boundary Rd - Accident.</td>\n",
       "      <td>Light Snow</td>\n",
       "      <td>False</td>\n",
       "      <td>4.0</td>\n",
       "      <td>Day</td>\n",
       "    </tr>\n",
       "  </tbody>\n",
       "</table>\n",
       "</div>"
      ],
      "text/plain": [
       "           Severity                                        Description  \\\n",
       "id                                                                       \n",
       "A-2283743         2  Right hand shoulder blocked due to accident on...   \n",
       "A-1567861         2       Accident on M-54 Saginaw Rd near Tuscola Rd.   \n",
       "A-423709          2                 At Braddock Dr/Exit 51 - Accident.   \n",
       "A-864136          2     Accident on Simpson Stuart Rd at Flagstaff Dr.   \n",
       "A-2792470         2        At Silver Lake Rd/W Boundary Rd - Accident.   \n",
       "\n",
       "          Weather_Condition  No_Exit  Visibility(mi) Sunrise_Sunset  \n",
       "id                                                                   \n",
       "A-2283743          Overcast    False            10.0            Day  \n",
       "A-1567861             Clear    False            10.0          Night  \n",
       "A-423709               Fair    False            10.0            Day  \n",
       "A-864136         Light Rain    False            10.0            Day  \n",
       "A-2792470        Light Snow    False             4.0            Day  "
      ]
     },
     "execution_count": 12,
     "metadata": {},
     "output_type": "execute_result"
    }
   ],
   "source": [
    "df1 = df[['Severity','Description','Weather_Condition','No_Exit','Visibility(mi)','Sunrise_Sunset']]\n",
    "df1.head()"
   ]
  },
  {
   "cell_type": "code",
   "execution_count": 15,
   "metadata": {
    "scrolled": true
   },
   "outputs": [
    {
     "name": "stdout",
     "output_type": "stream",
     "text": [
      "<class 'pandas.core.frame.DataFrame'>\n",
      "Index: 5000 entries, A-2283743 to A-1872539\n",
      "Data columns (total 6 columns):\n",
      " #   Column             Non-Null Count  Dtype  \n",
      "---  ------             --------------  -----  \n",
      " 0   Severity           5000 non-null   int64  \n",
      " 1   Description        5000 non-null   object \n",
      " 2   Weather_Condition  4871 non-null   object \n",
      " 3   No_Exit            5000 non-null   bool   \n",
      " 4   Visibility(mi)     4876 non-null   float64\n",
      " 5   Sunrise_Sunset     4999 non-null   object \n",
      "dtypes: bool(1), float64(1), int64(1), object(3)\n",
      "memory usage: 399.3+ KB\n"
     ]
    }
   ],
   "source": [
    "df1.info()"
   ]
  },
  {
   "cell_type": "code",
   "execution_count": 16,
   "metadata": {
    "scrolled": true
   },
   "outputs": [
    {
     "name": "stderr",
     "output_type": "stream",
     "text": [
      "<ipython-input-16-f74963dda761>:1: SettingWithCopyWarning: \n",
      "A value is trying to be set on a copy of a slice from a DataFrame\n",
      "\n",
      "See the caveats in the documentation: https://pandas.pydata.org/pandas-docs/stable/user_guide/indexing.html#returning-a-view-versus-a-copy\n",
      "  df1.dropna(inplace = True)\n"
     ]
    }
   ],
   "source": [
    "df1.dropna(inplace = True)"
   ]
  },
  {
   "cell_type": "code",
   "execution_count": 17,
   "metadata": {},
   "outputs": [
    {
     "name": "stdout",
     "output_type": "stream",
     "text": [
      "<class 'pandas.core.frame.DataFrame'>\n",
      "Index: 4858 entries, A-2283743 to A-1872539\n",
      "Data columns (total 6 columns):\n",
      " #   Column             Non-Null Count  Dtype  \n",
      "---  ------             --------------  -----  \n",
      " 0   Severity           4858 non-null   int64  \n",
      " 1   Description        4858 non-null   object \n",
      " 2   Weather_Condition  4858 non-null   object \n",
      " 3   No_Exit            4858 non-null   bool   \n",
      " 4   Visibility(mi)     4858 non-null   float64\n",
      " 5   Sunrise_Sunset     4858 non-null   object \n",
      "dtypes: bool(1), float64(1), int64(1), object(3)\n",
      "memory usage: 232.5+ KB\n"
     ]
    }
   ],
   "source": [
    "df1.info()"
   ]
  },
  {
   "cell_type": "code",
   "execution_count": 18,
   "metadata": {},
   "outputs": [
    {
     "data": {
      "text/html": [
       "<div>\n",
       "<style scoped>\n",
       "    .dataframe tbody tr th:only-of-type {\n",
       "        vertical-align: middle;\n",
       "    }\n",
       "\n",
       "    .dataframe tbody tr th {\n",
       "        vertical-align: top;\n",
       "    }\n",
       "\n",
       "    .dataframe thead th {\n",
       "        text-align: right;\n",
       "    }\n",
       "</style>\n",
       "<table border=\"1\" class=\"dataframe\">\n",
       "  <thead>\n",
       "    <tr style=\"text-align: right;\">\n",
       "      <th></th>\n",
       "      <th>Severity</th>\n",
       "      <th>Visibility(mi)</th>\n",
       "    </tr>\n",
       "  </thead>\n",
       "  <tbody>\n",
       "    <tr>\n",
       "      <th>count</th>\n",
       "      <td>4858.000000</td>\n",
       "      <td>4858.000000</td>\n",
       "    </tr>\n",
       "    <tr>\n",
       "      <th>mean</th>\n",
       "      <td>2.293331</td>\n",
       "      <td>9.065618</td>\n",
       "    </tr>\n",
       "    <tr>\n",
       "      <th>std</th>\n",
       "      <td>0.557762</td>\n",
       "      <td>2.812889</td>\n",
       "    </tr>\n",
       "    <tr>\n",
       "      <th>min</th>\n",
       "      <td>1.000000</td>\n",
       "      <td>0.000000</td>\n",
       "    </tr>\n",
       "    <tr>\n",
       "      <th>25%</th>\n",
       "      <td>2.000000</td>\n",
       "      <td>10.000000</td>\n",
       "    </tr>\n",
       "    <tr>\n",
       "      <th>50%</th>\n",
       "      <td>2.000000</td>\n",
       "      <td>10.000000</td>\n",
       "    </tr>\n",
       "    <tr>\n",
       "      <th>75%</th>\n",
       "      <td>3.000000</td>\n",
       "      <td>10.000000</td>\n",
       "    </tr>\n",
       "    <tr>\n",
       "      <th>max</th>\n",
       "      <td>4.000000</td>\n",
       "      <td>50.000000</td>\n",
       "    </tr>\n",
       "  </tbody>\n",
       "</table>\n",
       "</div>"
      ],
      "text/plain": [
       "          Severity  Visibility(mi)\n",
       "count  4858.000000     4858.000000\n",
       "mean      2.293331        9.065618\n",
       "std       0.557762        2.812889\n",
       "min       1.000000        0.000000\n",
       "25%       2.000000       10.000000\n",
       "50%       2.000000       10.000000\n",
       "75%       3.000000       10.000000\n",
       "max       4.000000       50.000000"
      ]
     },
     "execution_count": 18,
     "metadata": {},
     "output_type": "execute_result"
    }
   ],
   "source": [
    "df1.describe()"
   ]
  },
  {
   "cell_type": "code",
   "execution_count": 20,
   "metadata": {},
   "outputs": [
    {
     "data": {
      "text/plain": [
       "array(['Overcast', 'Clear', 'Fair', 'Light Rain', 'Light Snow',\n",
       "       'Mostly Cloudy', 'Haze', 'Light Rain with Thunder',\n",
       "       'Thunderstorms and Rain', 'Cloudy', 'Partly Cloudy', 'Rain',\n",
       "       'Scattered Clouds', 'Fog', 'Drizzle', 'Snow', 'Smoke',\n",
       "       'Fair / Windy', 'Heavy Rain', 'Light Drizzle',\n",
       "       'Thunder in the Vicinity', 'Mist', 'Light Freezing Rain',\n",
       "       'Light Rain / Windy', 'Wintry Mix', 'Heavy T-Storm',\n",
       "       'Heavy Thunderstorms and Rain', 'Light Snow / Windy',\n",
       "       'Partly Cloudy / Windy', 'T-Storm', 'N/A Precipitation', 'Thunder',\n",
       "       'Thunderstorm', 'Cloudy / Windy', 'Light Freezing Drizzle',\n",
       "       'Thunder / Wintry Mix', 'Heavy Snow', 'Mostly Cloudy / Windy',\n",
       "       'Haze / Windy', 'Showers in the Vicinity', 'Light Freezing Fog',\n",
       "       'Thunder / Windy', 'Heavy Drizzle', 'Smoke / Windy',\n",
       "       'Rain / Windy', 'Light Thunderstorms and Rain', 'Rain Showers',\n",
       "       'Shallow Fog'], dtype=object)"
      ]
     },
     "execution_count": 20,
     "metadata": {},
     "output_type": "execute_result"
    }
   ],
   "source": [
    "df1['Weather_Condition'].unique()"
   ]
  },
  {
   "cell_type": "code",
   "execution_count": 50,
   "metadata": {},
   "outputs": [],
   "source": [
    "df2 = df1[(df1[\"Visibility(mi)\"] <= 10.0)]\n"
   ]
  },
  {
   "cell_type": "code",
   "execution_count": 51,
   "metadata": {},
   "outputs": [
    {
     "data": {
      "text/plain": [
       "<AxesSubplot:xlabel='Severity', ylabel='Density'>"
      ]
     },
     "execution_count": 51,
     "metadata": {},
     "output_type": "execute_result"
    },
    {
     "data": {
      "image/png": "[encoded data removed]",
      "text/plain": [
       "<Figure size 432x288 with 1 Axes>"
      ]
     },
     "metadata": {
      "needs_background": "light"
     },
     "output_type": "display_data"
    }
   ],
   "source": [
    "sns.kdeplot(x='Severity',data = df2 )"
   ]
  },
  {
   "cell_type": "code",
   "execution_count": 52,
   "metadata": {},
   "outputs": [
    {
     "data": {
      "text/plain": [
       "<AxesSubplot:xlabel='Severity', ylabel='Weather_Condition'>"
      ]
     },
     "execution_count": 52,
     "metadata": {},
     "output_type": "execute_result"
    },
    {
     "data": {
      "image/png": "[encoded data removed]",
      "text/plain": [
       "<Figure size 720x2880 with 1 Axes>"
      ]
     },
     "metadata": {
      "needs_background": "light"
     },
     "output_type": "display_data"
    }
   ],
   "source": [
    "plt.figure(figsize = (10,40))\n",
    "sns.barplot(y='Weather_Condition',x='Severity',data = df1)"
   ]
  },
  {
   "cell_type": "code",
   "execution_count": 57,
   "metadata": {},
   "outputs": [
    {
     "data": {
      "text/plain": [
       "<AxesSubplot:xlabel='Severity', ylabel='count'>"
      ]
     },
     "execution_count": 57,
     "metadata": {},
     "output_type": "execute_result"
    },
    {
     "data": {
      "image/png": "[encoded data removed]",
      "text/plain": [
       "<Figure size 432x288 with 1 Axes>"
      ]
     },
     "metadata": {
      "needs_background": "light"
     },
     "output_type": "display_data"
    }
   ],
   "source": [
    "sns.countplot(x='Severity',data = df2 ,hue='Sunrise_Sunset' )"
   ]
  },
  {
   "cell_type": "code",
   "execution_count": null,
   "metadata": {},
   "outputs": [],
   "source": []
  }
 ],
 "metadata": {
  "kernelspec": {
   "display_name": "Python 3",
   "language": "python",
   "name": "python3"
  },
  "language_info": {
   "codemirror_mode": {
    "name": "ipython",
    "version": 3
   },
   "file_extension": ".py",
   "mimetype": "text/x-python",
   "name": "python",
   "nbconvert_exporter": "python",
   "pygments_lexer": "ipython3",
   "version": "3.8.5"
  }
 },
 "nbformat": 4,
 "nbformat_minor": 4
}
